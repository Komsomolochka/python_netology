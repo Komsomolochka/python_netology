{
 "cells": [
  {
   "cell_type": "markdown",
   "metadata": {},
   "source": [
    "### Задание 1\n",
    "Напишите функцию date_range, которая возвращает список дней между датами start_date и end_date. Даты должны вводиться в формате YYYY-MM-DD."
   ]
  },
  {
   "cell_type": "code",
   "execution_count": 3,
   "metadata": {},
   "outputs": [
    {
     "data": {
      "text/plain": [
       "['2018-01-01',\n",
       " '2018-01-02',\n",
       " '2018-01-03',\n",
       " '2018-01-04',\n",
       " '2018-01-05',\n",
       " '2018-01-06',\n",
       " '2018-01-07']"
      ]
     },
     "execution_count": 3,
     "metadata": {},
     "output_type": "execute_result"
    }
   ],
   "source": [
    "start_date = '2018-01-01'\n",
    "end_date = '2018-01-07'\n",
    "from datetime import datetime\n",
    "from datetime import timedelta\n",
    "start_date_s = datetime.strptime(start_date, '%Y-%m-%d')\n",
    "end_date_s = datetime.strptime(end_date, '%Y-%m-%d')\n",
    "date_list = []\n",
    "def date_list_func():\n",
    "    current_date = start_date_s\n",
    "    while current_date <= end_date_s:\n",
    "        date_list.append(current_date.strftime('%Y-%m-%d'))\n",
    "        current_date += timedelta(days=1)\n",
    "    return date_list\n",
    "date_list_func()  "
   ]
  },
  {
   "cell_type": "markdown",
   "metadata": {},
   "source": [
    "### Задание 2\n",
    "Дополните функцию из первого задания проверкой на корректность дат. В случае неверного формата или если start_date > end_date должен возвращаться пустой список."
   ]
  },
  {
   "cell_type": "code",
   "execution_count": 4,
   "metadata": {},
   "outputs": [
    {
     "data": {
      "text/plain": [
       "['2018-01-01',\n",
       " '2018-01-02',\n",
       " '2018-01-03',\n",
       " '2018-01-04',\n",
       " '2018-01-05',\n",
       " '2018-01-06',\n",
       " '2018-01-07']"
      ]
     },
     "execution_count": 4,
     "metadata": {},
     "output_type": "execute_result"
    }
   ],
   "source": [
    "start_date = '2018-01-01'\n",
    "end_date = '2018-01-07'\n",
    "from datetime import datetime\n",
    "from datetime import timedelta\n",
    "start_date_s = datetime.strptime(start_date, '%Y-%m-%d')\n",
    "end_date_s = datetime.strptime(end_date, '%Y-%m-%d')\n",
    "def date_list_func():\n",
    "    current_date = start_date_s\n",
    "    date_list = []\n",
    "    if end_date_s > start_date_s:\n",
    "        while current_date <= end_date_s:\n",
    "            try:\n",
    "                date_list.append(current_date.strftime('%Y-%m-%d'))\n",
    "                current_date += timedelta(days=1)\n",
    "            except ValueError:\n",
    "                return date_list == []\n",
    "        return date_list\n",
    "    else: date_list = []\n",
    "date_list_func()  "
   ]
  },
  {
   "cell_type": "markdown",
   "metadata": {},
   "source": [
    "### Задание 3\n",
    "Дан поток дат в формате YYYY-MM-DD, в которых встречаются некорректные значения:\n",
    "stream = [‘2018-04-02’, ‘2018-02-29’, ‘2018-19-02’]\n",
    "\n",
    "Напишите функцию, которая проверяет эти даты на корректность. Т. е. для каждой даты возвращает True (дата корректна) или False (некорректная дата)."
   ]
  },
  {
   "cell_type": "code",
   "execution_count": 79,
   "metadata": {},
   "outputs": [
    {
     "name": "stdout",
     "output_type": "stream",
     "text": [
      "True\n",
      "False\n",
      "False\n"
     ]
    }
   ],
   "source": [
    "stream = ['2018-04-02', '2018-02-29', '2018-19-02']\n",
    "from datetime import datetime\n",
    "\n",
    "def check_stream(date):\n",
    "    try:\n",
    "        type(datetime.strptime(date, '%Y-%m-%d')) == datetime\n",
    "        return True\n",
    "    except:\n",
    "        return False\n",
    "    \n",
    "for date in stream:\n",
    "    print(check_stream(date))\n",
    "    "
   ]
  },
  {
   "cell_type": "markdown",
   "metadata": {},
   "source": [
    "### Задание 4\n",
    "Напишите функцию, которая возвращает список дат с 1 по вчерашний день текущего месяца. Если дан 1 день месяца, то возвращается список дней прошлого месяца."
   ]
  },
  {
   "cell_type": "code",
   "execution_count": 40,
   "metadata": {},
   "outputs": [
    {
     "data": {
      "text/plain": [
       "['2019-06-01',\n",
       " '2019-06-02',\n",
       " '2019-06-03',\n",
       " '2019-06-04',\n",
       " '2019-06-05',\n",
       " '2019-06-06',\n",
       " '2019-06-07',\n",
       " '2019-06-08',\n",
       " '2019-06-09',\n",
       " '2019-06-10',\n",
       " '2019-06-11']"
      ]
     },
     "execution_count": 40,
     "metadata": {},
     "output_type": "execute_result"
    }
   ],
   "source": [
    "from datetime import timedelta\n",
    "from datetime import date\n",
    "\n",
    "def date_list_func(test_date):\n",
    "    today_ = date.fromisoformat(test_date)\n",
    "    date_list = []\n",
    "    if today_.day != 1:\n",
    "        start_day = date(year=today_.year, month=today_.month, day=1)\n",
    "        current_date = start_day\n",
    "        while current_date < today_:\n",
    "            date_list.append(current_date.strftime('%Y-%m-%d'))\n",
    "            current_date += timedelta(days=1)\n",
    "        return date_list\n",
    "    else:\n",
    "        start_day = date(year=today_.year, month=today_.month-1, day=1)\n",
    "        current_date = start_day\n",
    "        while current_date < today_:\n",
    "            date_list.append(current_date.strftime('%Y-%m-%d'))\n",
    "            current_date += timedelta(days=1)            \n",
    "        return date_list\n",
    "    \n",
    "date_list_func('2019-06-12')"
   ]
  }
 ],
 "metadata": {
  "kernelspec": {
   "display_name": "Python 3",
   "language": "python",
   "name": "python3"
  },
  "language_info": {
   "codemirror_mode": {
    "name": "ipython",
    "version": 3
   },
   "file_extension": ".py",
   "mimetype": "text/x-python",
   "name": "python",
   "nbconvert_exporter": "python",
   "pygments_lexer": "ipython3",
   "version": "3.7.3"
  }
 },
 "nbformat": 4,
 "nbformat_minor": 2
}
